{
 "cells": [
  {
   "cell_type": "markdown",
   "id": "1e617022-b12f-4e33-90aa-5185d50678ea",
   "metadata": {},
   "source": [
    "### 2. Weather Data Analyzer\n",
    "a. Analyze weather data (temperature, humidity, etc.) for a given region\n",
    "b. Use variables and data types to store weather data\n",
    "c. Implement conditional statements to determine weather conditions"
   ]
  },
  {
   "cell_type": "code",
   "execution_count": 33,
   "id": "d331118d-40e9-4fed-8ac4-22d239924897",
   "metadata": {},
   "outputs": [
    {
     "name": "stdout",
     "output_type": "stream",
     "text": [
      "Average temperature: 27.6\n",
      "Average humidity: 69.2\n",
      "Weather condition: Pleasant\n"
     ]
    }
   ],
   "source": [
    "def calculate_average(data): \n",
    "    total = sum(data) \n",
    "    count = len(data) \n",
    "    return total / count\n",
    "def determine_weather(temperature, humidity): \n",
    "    if temperature > 30 and humidity > 70: \n",
    "        return \"Hot and humid\" \n",
    "    elif temperature > 30: \n",
    "        return \"Hot\" \n",
    "    elif humidity > 70: \n",
    "        return \"Humid\" \n",
    "    else: \n",
    "        return \"Pleasant\"\n",
    "def main():\n",
    "    temperatures = [26, 27, 31, 28, 26] \n",
    "    humidities = [61, 73, 66, 77, 69]\n",
    "    average_temperature = calculate_average(temperatures) \n",
    "    average_humidity = calculate_average(humidities)\n",
    "    print(\"Average temperature:\", average_temperature)\n",
    "    print(\"Average humidity:\", average_humidity)\n",
    "    weather_condition = determine_weather(average_temperature, average_humidity) \n",
    "    print(\"Weather condition:\", weather_condition)\n",
    "if __name__ == \"__main__\": \n",
    "    main()"
   ]
  },
  {
   "cell_type": "code",
   "execution_count": null,
   "id": "7dfe728f-cdd2-4393-967e-08e53d88d8d8",
   "metadata": {},
   "outputs": [],
   "source": []
  }
 ],
 "metadata": {
  "kernelspec": {
   "display_name": "Python 3 (ipykernel)",
   "language": "python",
   "name": "python3"
  },
  "language_info": {
   "codemirror_mode": {
    "name": "ipython",
    "version": 3
   },
   "file_extension": ".py",
   "mimetype": "text/x-python",
   "name": "python",
   "nbconvert_exporter": "python",
   "pygments_lexer": "ipython3",
   "version": "3.12.4"
  }
 },
 "nbformat": 4,
 "nbformat_minor": 5
}
