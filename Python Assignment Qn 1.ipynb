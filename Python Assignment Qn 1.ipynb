{
 "cells": [
  {
   "cell_type": "code",
   "execution_count": 1,
   "id": "6ff59f4c-a817-480c-8e4f-37e519da1856",
   "metadata": {},
   "outputs": [
    {
     "name": "stdout",
     "output_type": "stream",
     "text": [
      "\n",
      "Bank Account Menu:\n",
      "1. Deposit\n",
      "2. Withdraw\n",
      "3. Check Balance\n",
      "4. Exit\n"
     ]
    },
    {
     "name": "stdin",
     "output_type": "stream",
     "text": [
      "Enter your choice:  1\n",
      "Enter deposit amount:  100\n"
     ]
    },
    {
     "name": "stdout",
     "output_type": "stream",
     "text": [
      "Deposited: 100.0\n",
      "\n",
      "Bank Account Menu:\n",
      "1. Deposit\n",
      "2. Withdraw\n",
      "3. Check Balance\n",
      "4. Exit\n"
     ]
    },
    {
     "name": "stdin",
     "output_type": "stream",
     "text": [
      "Enter your choice:  2\n",
      "Enter withdrawal amount:  50\n"
     ]
    },
    {
     "name": "stdout",
     "output_type": "stream",
     "text": [
      "Withdrawn: 50.0\n",
      "\n",
      "Bank Account Menu:\n",
      "1. Deposit\n",
      "2. Withdraw\n",
      "3. Check Balance\n",
      "4. Exit\n"
     ]
    },
    {
     "name": "stdin",
     "output_type": "stream",
     "text": [
      "Enter your choice:  3\n"
     ]
    },
    {
     "name": "stdout",
     "output_type": "stream",
     "text": [
      "Current_balance: 50.0\n",
      "\n",
      "Bank Account Menu:\n",
      "1. Deposit\n",
      "2. Withdraw\n",
      "3. Check Balance\n",
      "4. Exit\n"
     ]
    },
    {
     "name": "stdin",
     "output_type": "stream",
     "text": [
      "Enter your choice:  4\n"
     ]
    }
   ],
   "source": [
    "def deposit(balance, amount):\n",
    "    if amount<=0 :\n",
    "        print('Invalid deposit amount.')\n",
    "    else :\n",
    "        balance += amount\n",
    "        print('Deposited:', amount)\n",
    "    return(balance)\n",
    "def withdraw(balance, amount):\n",
    "    if amount<=0 :\n",
    "        print('Invalid withdrawal amount.')\n",
    "    elif amount>balance :\n",
    "        print('Insufficient fund')\n",
    "    else :\n",
    "        balance-=amount \n",
    "        print('Withdrawn:', amount)\n",
    "    return(balance)\n",
    "def check_balance(balance):\n",
    "    print(\"Current_balance:\", balance)\n",
    "\n",
    "   \n",
    "def main():\n",
    "  balance = 0.0\n",
    "  while True:\n",
    "    print(\"\\nBank Account Menu:\")\n",
    "    print(\"1. Deposit\")\n",
    "    print(\"2. Withdraw\")\n",
    "    print(\"3. Check Balance\")\n",
    "    print(\"4. Exit\")\n",
    "\n",
    "    choice = int(input(\"Enter your choice: \"))\n",
    "\n",
    "    if choice == 1:\n",
    "      amount= float(input(\"Enter deposit amount: \"))\n",
    "      balance = deposit(balance, amount)\n",
    "    elif choice == 2:\n",
    "      amount = float(input(\"Enter withdrawal amount: \"))\n",
    "      balance = withdraw(balance, amount)\n",
    "    elif choice == 3:\n",
    "      check_balance(balance)\n",
    "    elif choice == 4:\n",
    "      break\n",
    "    else:\n",
    "      print(\"Invalid choice.\")\n",
    "\n",
    "if __name__ == \"__main__\":\n",
    "  main()\n"
   ]
  },
  {
   "cell_type": "code",
   "execution_count": null,
   "id": "6b59bb75-a45b-446c-843f-96aab08da450",
   "metadata": {},
   "outputs": [],
   "source": []
  }
 ],
 "metadata": {
  "kernelspec": {
   "display_name": "Python 3 (ipykernel)",
   "language": "python",
   "name": "python3"
  },
  "language_info": {
   "codemirror_mode": {
    "name": "ipython",
    "version": 3
   },
   "file_extension": ".py",
   "mimetype": "text/x-python",
   "name": "python",
   "nbconvert_exporter": "python",
   "pygments_lexer": "ipython3",
   "version": "3.12.4"
  }
 },
 "nbformat": 4,
 "nbformat_minor": 5
}
